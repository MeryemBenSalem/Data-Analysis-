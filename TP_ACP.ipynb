{
 "cells": [
  {
   "cell_type": "code",
   "execution_count": 1,
   "id": "d7efbcc9-11e4-4321-bf66-acc89a339fa5",
   "metadata": {},
   "outputs": [],
   "source": [
    "from sklearn.cluster import KMeans\n",
    "from sklearn.metrics import silhouette_score\n",
    "import numpy as np\n",
    "import pandas as pd\n",
    "from sklearn.model_selection import train_test_split\n",
    "from sklearn.decomposition import PCA\n",
    "# Charger les données MNIST\n",
    "mnist = pd.read_csv(\"mnist_784.csv\")\n",
    "# Diviser les données en ensembles d'apprentissage et de test\n",
    "X_train, X_test = train_test_split(mnist, test_size=40000, random_state=42)\n",
    "\n",
    "# Supprimer la colonne \"class\" de l'ensemble d'apprentissage\n",
    "X_train = X_train.drop(columns=[\"class\"])"
   ]
  },
  {
   "cell_type": "code",
   "execution_count": 2,
   "id": "1612b983-4539-4ee9-84a9-d5898cf3884a",
   "metadata": {},
   "outputs": [
    {
     "name": "stderr",
     "output_type": "stream",
     "text": [
      "C:\\Users\\merye\\anaconda3\\Lib\\site-packages\\sklearn\\cluster\\_kmeans.py:870: FutureWarning: The default value of `n_init` will change from 10 to 'auto' in 1.4. Set the value of `n_init` explicitly to suppress the warning\n",
      "  warnings.warn(\n"
     ]
    },
    {
     "name": "stdout",
     "output_type": "stream",
     "text": [
      "Indice de silhouette sans ACP pour l'ensemble d'apprentissage : 0.05670380685602751\n"
     ]
    }
   ],
   "source": [
    "# Classification sans ACP\n",
    "kmeans_no_pca = KMeans(n_clusters=9, random_state=42)\n",
    "labels_no_pca = kmeans_no_pca.fit_predict(X_train)\n",
    "silhouette_train_no_pca = silhouette_score(X_train, labels_no_pca)\n",
    "print(\"Indice de silhouette sans ACP pour l'ensemble d'apprentissage :\", silhouette_train_no_pca)\n"
   ]
  },
  {
   "cell_type": "code",
   "execution_count": 3,
   "id": "ce146b17-b0d7-4477-a3a4-2dac5b3c6935",
   "metadata": {},
   "outputs": [
    {
     "name": "stderr",
     "output_type": "stream",
     "text": [
      "C:\\Users\\merye\\anaconda3\\Lib\\site-packages\\sklearn\\cluster\\_kmeans.py:870: FutureWarning: The default value of `n_init` will change from 10 to 'auto' in 1.4. Set the value of `n_init` explicitly to suppress the warning\n",
      "  warnings.warn(\n"
     ]
    },
    {
     "name": "stdout",
     "output_type": "stream",
     "text": [
      "Indice de silhouette avec ACP pour l'ensemble d'apprentissage : 0.07051577867875927\n"
     ]
    }
   ],
   "source": [
    "# Classification avec ACP à 90% de variance cumulée\n",
    "pca = PCA(n_components=0.9, random_state=42)\n",
    "X_train_pca = pca.fit_transform(X_train)\n",
    "kmeans_with_pca = KMeans(n_clusters=9, random_state=42)\n",
    "labels_with_pca = kmeans_with_pca.fit_predict(X_train_pca)\n",
    "silhouette_train_with_pca = silhouette_score(X_train_pca, labels_with_pca)\n",
    "print(\"Indice de silhouette avec ACP pour l'ensemble d'apprentissage :\", silhouette_train_with_pca)"
   ]
  },
  {
   "cell_type": "markdown",
   "id": "bd02b1c2-5dd8-453b-873d-6df53ece3997",
   "metadata": {},
   "source": [
    ": \n",
    "\n",
    "L'indice de silhouette sans ACP pour l'ensemble d'apprentissage est de 0.0567, ce qui indique une certaine superposition des clusters et une séparation moins claire entre eux.\n",
    "L'indice de silhouette avec ACP pour l'ensemble d'apprentissage est de 0.0705, ce qui est légèrement plus élevé que celui sans ACP. Cela suggère que l'ACP a permis d'améliorer la séparation des clusters et donc la qualité de la classificat ion.\n",
    "En conclusion, l'application de l'ACP à 90% de variance cumulée avant la classification a conduit à une amélioration de l'indice de silhouette pour l'ensemble d'apprentissage, indiquant une meilleure séparation des clusters et donc une meilleure performance du modèle de classification."
   ]
  }
 ],
 "metadata": {
  "kernelspec": {
   "display_name": "Python 3 (ipykernel)",
   "language": "python",
   "name": "python3"
  },
  "language_info": {
   "codemirror_mode": {
    "name": "ipython",
    "version": 3
   },
   "file_extension": ".py",
   "mimetype": "text/x-python",
   "name": "python",
   "nbconvert_exporter": "python",
   "pygments_lexer": "ipython3",
   "version": "3.11.7"
  }
 },
 "nbformat": 4,
 "nbformat_minor": 5
}
